{
  "nbformat": 4,
  "nbformat_minor": 0,
  "metadata": {
    "colab": {
      "provenance": [],
      "gpuType": "V28"
    },
    "kernelspec": {
      "name": "python3",
      "display_name": "Python 3"
    },
    "language_info": {
      "name": "python"
    },
    "accelerator": "TPU"
  },
  "cells": [
    {
      "cell_type": "markdown",
      "source": [
        "Objective: Create a simple command-line-based to-do list application.\n",
        "\n",
        "You’ve just been recruited to work for a high-tech secret agency. Your mission? Keep track of all the tasks on your to-do list to make sure the agency runs smoothly. You’ll need to create an application that lets you add, remove, and view tasks—and even mark them as completed to show you’re one step closer to your goal!\n",
        "\n",
        "Task:\n",
        "\n",
        "Build an application that allows users to add, remove, and view tasks.\n",
        "Implement the option to mark tasks as completed.\n",
        "Optional: Add functionality to prioritize tasks."
      ],
      "metadata": {
        "id": "S8LtBEoJBA6s"
      }
    },
    {
      "cell_type": "markdown",
      "source": [
        "#Solution:-"
      ],
      "metadata": {
        "id": "v6B3fU_JBHpD"
      }
    },
    {
      "cell_type": "code",
      "execution_count": 19,
      "metadata": {
        "id": "EhN1zWQhA6q8"
      },
      "outputs": [],
      "source": [
        "def add_task(tasks):\n",
        "  task = input(\"enter a new task:\")\n",
        "  tasks.append({\"task\":task,\"done\":False})\n",
        "  print(\"Task added!\")"
      ]
    },
    {
      "cell_type": "code",
      "source": [
        "def view_tasks(tasks):\n",
        "    print(\"\\nTasks:\")\n",
        "    for index, task in enumerate(tasks):\n",
        "        status = \"Done\" if task[\"done\"] else \"Not Done\"\n",
        "        print(f\"{index + 1}. {task['task']} - {status}\")\n"
      ],
      "metadata": {
        "id": "gbwjEI4PF4cg"
      },
      "execution_count": 20,
      "outputs": []
    },
    {
      "cell_type": "code",
      "source": [
        "def remove_task(tasks):\n",
        "    view_tasks(tasks)\n",
        "    task_number = int(input(\"Enter the task number to remove: \")) - 1\n",
        "    try:\n",
        "        del tasks[task_number]\n",
        "        print(\"Task removed!\")\n",
        "    except IndexError:\n",
        "        print(\"Invalid task number.\")\n",
        "\n",
        "\n",
        "\n"
      ],
      "metadata": {
        "id": "WTwfTSLwGlfm"
      },
      "execution_count": 21,
      "outputs": []
    },
    {
      "cell_type": "code",
      "source": [
        "def mark_task_complete(tasks):\n",
        "  view_tasks(tasks)\n",
        "  task_number = int(input(\"enter the task number to mark as done:\")) - 1\n",
        "  try:\n",
        "    tasks[task_number][\"done\"] = True\n",
        "    print(\"task marked as done!\")\n",
        "  except IndexError:\n",
        "    print(\"invalid task number\")\n"
      ],
      "metadata": {
        "id": "BJgIq-PoHwtp"
      },
      "execution_count": 22,
      "outputs": []
    },
    {
      "cell_type": "code",
      "source": [
        "def main():\n",
        "  tasks = []\n",
        "\n",
        "\n",
        "  while True:\n",
        "    print(\"\\n==== To - Do List =====\")\n",
        "    print(\"1. Add task\")\n",
        "    print(\"2. view Task\")\n",
        "    print(\"3. remove task\")\n",
        "    print(\"4. mark Task as done\")\n",
        "    print(\"5. Exit\")\n",
        "\n",
        "    choice = input(\"enter your choice: \")\n",
        "\n",
        "    if choice == '1':\n",
        "      add_task(tasks)\n",
        "    elif choice == '2':\n",
        "      view_tasks(tasks)\n",
        "    elif choice == '3':\n",
        "      remove_task(tasks)\n",
        "    elif choice == '4':\n",
        "      mark_task_complete(tasks)\n",
        "    elif choice == '5':\n",
        "      print(\"exiting the to-do list.\")\n",
        "      break\n",
        "    else:\n",
        "      print(\"invalid choice. please try again.\")\n",
        "\n",
        "if __name__ ==\"__main__\":\n",
        "  main()\n",
        "\n",
        "\n",
        "\n",
        "\n",
        "\n",
        "\n",
        "\n",
        "\n",
        "\n"
      ],
      "metadata": {
        "colab": {
          "base_uri": "https://localhost:8080/",
          "height": 0
        },
        "id": "6frTg9S5Ikej",
        "outputId": "747d8539-20d2-48d1-f1e0-67f729dfcca0"
      },
      "execution_count": 24,
      "outputs": [
        {
          "output_type": "stream",
          "name": "stdout",
          "text": [
            "\n",
            "==== To - Do List =====\n",
            "1. Add task\n",
            "2. view Task\n",
            "3. remove task\n",
            "4. mark Task as done\n",
            "5. Exit\n",
            "enter your choice: 1\n",
            "enter a new task:python practics\n",
            "Task added!\n",
            "\n",
            "==== To - Do List =====\n",
            "1. Add task\n",
            "2. view Task\n",
            "3. remove task\n",
            "4. mark Task as done\n",
            "5. Exit\n",
            "enter your choice: 4\n",
            "\n",
            "Tasks:\n",
            "1. python practics - Not Done\n",
            "enter the task number to mark as done:1\n",
            "task marked as done!\n",
            "\n",
            "==== To - Do List =====\n",
            "1. Add task\n",
            "2. view Task\n",
            "3. remove task\n",
            "4. mark Task as done\n",
            "5. Exit\n",
            "enter your choice: 2\n",
            "\n",
            "Tasks:\n",
            "1. python practics - Done\n",
            "\n",
            "==== To - Do List =====\n",
            "1. Add task\n",
            "2. view Task\n",
            "3. remove task\n",
            "4. mark Task as done\n",
            "5. Exit\n",
            "enter your choice: 3\n",
            "\n",
            "Tasks:\n",
            "1. python practics - Done\n",
            "Enter the task number to remove: 1\n",
            "Task removed!\n",
            "\n",
            "==== To - Do List =====\n",
            "1. Add task\n",
            "2. view Task\n",
            "3. remove task\n",
            "4. mark Task as done\n",
            "5. Exit\n",
            "enter your choice: 2\n",
            "\n",
            "Tasks:\n",
            "\n",
            "==== To - Do List =====\n",
            "1. Add task\n",
            "2. view Task\n",
            "3. remove task\n",
            "4. mark Task as done\n",
            "5. Exit\n",
            "enter your choice: 5\n",
            "exiting the to-do list.\n"
          ]
        }
      ]
    },
    {
      "cell_type": "code",
      "source": [],
      "metadata": {
        "id": "Pq-95vRvKkgW"
      },
      "execution_count": null,
      "outputs": []
    }
  ]
}