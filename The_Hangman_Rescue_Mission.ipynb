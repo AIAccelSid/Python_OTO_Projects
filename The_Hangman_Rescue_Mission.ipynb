{
  "nbformat": 4,
  "nbformat_minor": 0,
  "metadata": {
    "colab": {
      "provenance": []
    },
    "kernelspec": {
      "name": "python3",
      "display_name": "Python 3"
    },
    "language_info": {
      "name": "python"
    }
  },
  "cells": [
    {
      "cell_type": "markdown",
      "source": [
        "Objective: Create a text-based Hangman game.\n",
        "\n",
        "You’ve just been transported into a magical kingdom where words hold the power to save or doom someone. An evil wizard has captured a poor soul; the only way to free them is by guessing the secret word. Each wrong guess brings the prisoner closer to their fate. Use your code to build this classic game and save the day!\n",
        "\n",
        "Task:\n",
        "\n",
        "Choose a word randomly from a list.\n",
        "Display underscores for each letter and update with correct guesses.\n",
        "Limit incorrect guesses to a set number.\n",
        "\n",
        "Solution:\n",
        "\n",
        "Use a word list, loops, and string manipulation to manage guesses and the display.\n",
        "Key Concepts: Loops, conditionals, random module, lists, string manipulation."
      ],
      "metadata": {
        "id": "txtEULB5JSVX"
      }
    },
    {
      "cell_type": "markdown",
      "source": [
        "***Solution :-***"
      ],
      "metadata": {
        "id": "qoN_xElTUSXv"
      }
    },
    {
      "cell_type": "code",
      "source": [
        "import random\n",
        "\n",
        "# List of words to choose from\n",
        "word_list = [\"apple\", \"banana\", \"cherry\", \"date\", \"elderberry\"]\n",
        "\n",
        "# Number of incorrect guesses allowed\n",
        "guess_limit = 6\n",
        "\n",
        "def hangman():\n",
        "    # Choose a random word from the list\n",
        "    secret_word = random.choice(word_list)\n",
        "\n",
        "    # Initialize the display with underscores for each letter\n",
        "    display = [\"_\"] * len(secret_word)\n",
        "\n",
        "    # Initialize the number of incorrect guesses\n",
        "    incorrect_guesses = 0\n",
        "\n",
        "    print(\"Welcome to Hangman You have {} chances to guess the word.\".format(guess_limit))\n",
        "\n",
        "    while True:\n",
        "        # Display the current state of the word\n",
        "        print(\" \".join(display))\n",
        "\n",
        "        # Ask for a guess\n",
        "        guess = input(\"Guess a letter: \").lower()\n",
        "\n",
        "        # Check if the guess is a single letter\n",
        "        if len(guess) != 1:\n",
        "            print(\"Please guess one letter at a time.\")\n",
        "            continue\n",
        "\n",
        "        # Check if the guess is in the secret word\n",
        "        if guess in secret_word:\n",
        "            # Update the display with the correct guess\n",
        "            for i, letter in enumerate(secret_word):\n",
        "                if letter == guess:\n",
        "                    display[i] = guess\n",
        "        else:\n",
        "            # Increment the number of incorrect guesses\n",
        "            incorrect_guesses += 1\n",
        "            print(\"Incorrect guess. You have {} chances left.\".format(guess_limit - incorrect_guesses))\n",
        "\n",
        "            # Check if the game is over\n",
        "            if incorrect_guesses == guess_limit:\n",
        "                print(\"Game Over The secret word was {}.\".format(secret_word))\n",
        "                break\n",
        "\n",
        "        # Check if the word has been fully guessed\n",
        "        if \"_\" not in display:\n",
        "            print(\" \".join(display))\n",
        "            print(\"Congratulations You've saved the prisoner!\")\n",
        "            break\n",
        "\n",
        "# Start the game\n",
        "hangman()"
      ],
      "metadata": {
        "colab": {
          "base_uri": "https://localhost:8080/",
          "height": 0
        },
        "id": "-DMJW3Zma0cX",
        "outputId": "9c5bedc8-9a75-47d8-a375-ebe4a82f9c5a"
      },
      "execution_count": 25,
      "outputs": [
        {
          "output_type": "stream",
          "name": "stdout",
          "text": [
            "Welcome to Hangman You have 6 chances to guess the word.\n",
            "_ _ _ _ _ _ _ _ _ _\n",
            "Guess a letter: a\n",
            "Incorrect guess. You have 5 chances left.\n",
            "_ _ _ _ _ _ _ _ _ _\n",
            "Guess a letter: b\n",
            "_ _ _ _ _ b _ _ _ _\n",
            "Guess a letter: e\n",
            "e _ _ e _ b e _ _ _\n",
            "Guess a letter: l\n",
            "e l _ e _ b e _ _ _\n",
            "Guess a letter: d\n",
            "e l d e _ b e _ _ _\n",
            "Guess a letter: r\n",
            "e l d e r b e r r _\n",
            "Guess a letter: y\n",
            "e l d e r b e r r y\n",
            "Congratulations You've saved the prisoner!\n"
          ]
        }
      ]
    },
    {
      "cell_type": "code",
      "source": [],
      "metadata": {
        "id": "3LQ8eiSsbKUi"
      },
      "execution_count": null,
      "outputs": []
    }
  ]
}